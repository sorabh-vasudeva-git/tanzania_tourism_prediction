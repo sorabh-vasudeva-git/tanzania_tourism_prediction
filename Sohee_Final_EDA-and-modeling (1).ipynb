{
 "cells": [
  {
   "cell_type": "code",
   "execution_count": 228,
   "metadata": {
    "tags": []
   },
   "outputs": [],
   "source": [
    "import numpy as np\n",
    "import pandas as pd\n",
    "import string\n",
    "import warnings\n",
    "warnings.filterwarnings('ignore')\n",
    "\n",
    "import matplotlib.pyplot as plt\n",
    "import seaborn as sns\n",
    "import missingno\n",
    "\n",
    "\n",
    "# data preprocessing \n",
    "from sklearn.preprocessing import OneHotEncoder, StandardScaler\n",
    "\n",
    "# model selection & validation\n",
    "from sklearn.model_selection import (\n",
    "    train_test_split,\n",
    "    cross_val_score,\n",
    "    StratifiedKFold,\n",
    "    GridSearchCV,\n",
    "    RandomizedSearchCV\n",
    ")\n",
    "\n",
    "from sklearn.linear_model import LogisticRegression\n",
    "from sklearn.pipeline import Pipeline\n",
    "from sklearn.compose import ColumnTransformer\n",
    "from sklearn.preprocessing import OneHotEncoder, StandardScaler\n",
    "from sklearn.impute import SimpleImputer\n",
    "from sklearn.model_selection import train_test_split\n",
    "from sklearn.model_selection import GridSearchCV\n",
    "from sklearn.model_selection import cross_val_predict\n",
    "from sklearn.metrics import accuracy_score, recall_score, precision_score\n",
    "\n",
    "import pandas as pd\n",
    "from sklearn.model_selection import cross_validate\n",
    "from sklearn.model_selection import cross_val_score\n",
    "import numpy as np\n",
    "from sklearn.preprocessing import StandardScaler\n",
    "from sklearn.metrics import accuracy_score, f1_score, log_loss, confusion_matrix, classification_report\n",
    "from sklearn.dummy import DummyClassifier\n",
    "import warnings\n",
    "warnings.filterwarnings('ignore')\n",
    "import matplotlib.pyplot as plt\n",
    "\n",
    "\n",
    "from sklearn.model_selection import RandomizedSearchCV\n",
    "\n",
    "\n",
    "\n",
    "# model import \n",
    "from sklearn.linear_model import LogisticRegression\n",
    "from sklearn.neighbors import KNeighborsClassifier\n",
    "from sklearn.tree import DecisionTreeClassifier\n",
    "from sklearn.ensemble import (\n",
    "    RandomForestClassifier,\n",
    "    BaggingClassifier,\n",
    "    VotingClassifier,\n",
    "    StackingClassifier,\n",
    "    AdaBoostClassifier,\n",
    "    GradientBoostingClassifier,\n",
    "    ExtraTreesClassifier,\n",
    "    RandomForestRegressor,\n",
    "    GradientBoostingRegressor\n",
    ")\n",
    "\n",
    "# XGBoost\n",
    "import xgboost as xgb\n",
    "from xgboost import XGBClassifier\n",
    "\n",
    "# evaluation \n",
    "from sklearn.metrics import (\n",
    "    accuracy_score,\n",
    "    confusion_matrix,\n",
    "    classification_report,\n",
    "    roc_auc_score,\n",
    "    roc_curve\n",
    ")\n",
    "\n",
    "\n",
    "RSEED = 42\n",
    "\n",
    "\n",
    "import string\n",
    "import warnings\n",
    "import missingno\n",
    "warnings.filterwarnings('ignore')\n",
    "\n",
    "df_train = pd.read_csv('data/train.csv')\n",
    "df_test = pd.read_csv('data/test.csv')\n",
    "df_all = pd.concat((df_train, df_test)).reset_index(drop=True)\n",
    "\n",
    "\n",
    "from sklearn.metrics import accuracy_score\n",
    "import warnings\n",
    "warnings.filterwarnings(\"ignore\")\n"
   ]
  },
  {
   "cell_type": "code",
   "execution_count": 254,
   "metadata": {
    "tags": []
   },
   "outputs": [],
   "source": [
    "# print(df_train.shape)\n",
    "# print(df_train.dtypes)"
   ]
  },
  {
   "cell_type": "code",
   "execution_count": 258,
   "metadata": {
    "tags": []
   },
   "outputs": [],
   "source": [
    "# df_train.info()"
   ]
  },
  {
   "cell_type": "code",
   "execution_count": 259,
   "metadata": {
    "tags": []
   },
   "outputs": [],
   "source": [
    "# missingno.matrix(df_train)"
   ]
  },
  {
   "cell_type": "code",
   "execution_count": 260,
   "metadata": {
    "tags": []
   },
   "outputs": [],
   "source": [
    "cat_cols = df_train.select_dtypes(include='category').columns\n",
    "for col in cat_cols:\n",
    "    df_train[col] = df_train[col].str.strip().str.lower()"
   ]
  },
  {
   "cell_type": "code",
   "execution_count": 261,
   "metadata": {
    "tags": []
   },
   "outputs": [],
   "source": [
    "df_train['travel_with'] = df_train['travel_with'].str.lower().str.strip()"
   ]
  },
  {
   "cell_type": "code",
   "execution_count": null,
   "metadata": {},
   "outputs": [],
   "source": []
  },
  {
   "cell_type": "markdown",
   "metadata": {},
   "source": [
    "# feature engineering\n"
   ]
  },
  {
   "cell_type": "code",
   "execution_count": 262,
   "metadata": {
    "tags": []
   },
   "outputs": [],
   "source": [
    "def preprocess_data(df, is_train=True):\n",
    "    df = df.copy()\n",
    "\n",
    "    \n",
    "    df['total_female'] = df['total_female'].fillna(0)\n",
    "    df['total_male'] = df['total_male'].fillna(0)\n",
    "    df['travel_with'] = df['travel_with'].fillna('alone')\n",
    "\n",
    "   \n",
    "    df['group_size'] = df['total_female'] + df['total_male']\n",
    "    df['total_nights'] = df['night_mainland'] + df['night_zanzibar']\n",
    "\n",
    "    package_cols = [\n",
    "        'tour_arrangement',\n",
    "        'package_transport_int',\n",
    "        'package_accomodation',\n",
    "        'package_food',\n",
    "        'package_transport_tz',\n",
    "        'package_sightseeing',\n",
    "        'package_guided_tour',\n",
    "        'package_insurance'\n",
    "    ]\n",
    "\n",
    "    def compute_package_score(row):\n",
    "        score = 0\n",
    "        val = row['tour_arrangement']\n",
    "        if pd.notnull(val):\n",
    "            if 'package' in val.lower() or 'agency' in val.lower():\n",
    "                score += 1\n",
    "        for col in package_cols[1:]:\n",
    "            val = row[col]\n",
    "            if pd.notnull(val) and str(val).strip().lower() == 'yes':\n",
    "                score += 1\n",
    "        return score\n",
    "\n",
    "    df['package_score'] = df.apply(compute_package_score, axis=1)\n",
    "\n",
    "    \n",
    "    if is_train and 'total_cost' in df.columns:\n",
    "        df['cost_group'] = pd.qcut(\n",
    "            df['total_cost'],\n",
    "            q=3,\n",
    "            labels=['low_cost_spender', 'middle_cost_spender', 'high_cost_spender']\n",
    "        )\n",
    "\n",
    "    return df\n"
   ]
  },
  {
   "cell_type": "code",
   "execution_count": 263,
   "metadata": {
    "tags": []
   },
   "outputs": [],
   "source": [
    "df_train = preprocess_data(df_train, is_train=True)\n",
    "df_test = preprocess_data(df_test, is_train=False)\n"
   ]
  },
  {
   "cell_type": "code",
   "execution_count": 266,
   "metadata": {
    "tags": []
   },
   "outputs": [],
   "source": [
    "# sns.scatterplot(x='night_mainland', y='total_cost', data=df_train)"
   ]
  },
  {
   "cell_type": "code",
   "execution_count": 265,
   "metadata": {
    "tags": []
   },
   "outputs": [],
   "source": [
    "# df_train.isna().sum()"
   ]
  },
  {
   "cell_type": "code",
   "execution_count": 239,
   "metadata": {
    "tags": []
   },
   "outputs": [],
   "source": [
    "df_train['cost_group'] = pd.qcut(df_train['total_cost'], q=3, labels=['low_cost_spender', 'middle_cost_spender', 'high_cost_spender'])\n",
    "# print(df_train['cost_group'].value_counts())"
   ]
  },
  {
   "cell_type": "code",
   "execution_count": 240,
   "metadata": {},
   "outputs": [],
   "source": [
    "cross = pd.crosstab(df_train['package_score'], df_train['cost_group'], normalize='index')\n",
    "# print(cross)"
   ]
  },
  {
   "cell_type": "code",
   "execution_count": 241,
   "metadata": {
    "tags": []
   },
   "outputs": [],
   "source": [
    "high_df = df_train[df_train['cost_group'] == 'high_cost_spender']"
   ]
  },
  {
   "cell_type": "code",
   "execution_count": 267,
   "metadata": {
    "tags": []
   },
   "outputs": [
    {
     "name": "stdout",
     "output_type": "stream",
     "text": [
      "80.70359466004514\n"
     ]
    }
   ],
   "source": [
    "total_revenue = df_train['total_cost'].sum()\n",
    "high_revenue = df_train[df_train['cost_group'] == 'high_cost_spender']['total_cost'].sum()\n",
    "high_share = (high_revenue / total_revenue) * 100\n",
    "print(high_share) # percent "
   ]
  },
  {
   "cell_type": "code",
   "execution_count": 243,
   "metadata": {
    "tags": []
   },
   "outputs": [
    {
     "name": "stdout",
     "output_type": "stream",
     "text": [
      "\n",
      "📌 Top 5 in 'ID' for high_cost_spender:\n",
      "ID\n",
      "tour_1002    0.06 %\n",
      "tour_1013    0.06 %\n",
      "tour_1017    0.06 %\n",
      "tour_1029    0.06 %\n",
      "tour_1035    0.06 %\n",
      "Name: proportion, dtype: object\n",
      "\n",
      "📌 Top 5 in 'country' for high_cost_spender:\n",
      "country\n",
      "UNITED STATES OF AMERICA    23.36 %\n",
      "ITALY                       13.24 %\n",
      "FRANCE                       9.93 %\n",
      "UNITED KINGDOM               9.06 %\n",
      "AUSTRALIA                    6.93 %\n",
      "Name: proportion, dtype: object\n",
      "\n",
      "📌 Top 5 in 'age_group' for high_cost_spender:\n",
      "age_group\n",
      "25-44    39.91 %\n",
      "45-64    39.85 %\n",
      "65+      13.24 %\n",
      "1-24       7.0 %\n",
      "Name: proportion, dtype: object\n",
      "\n",
      "📌 Top 5 in 'travel_with' for high_cost_spender:\n",
      "travel_with\n",
      "spouse                 37.04 %\n",
      "friends/relatives      22.55 %\n",
      "alone                  19.93 %\n",
      "spouse and children    15.87 %\n",
      "children                4.62 %\n",
      "Name: proportion, dtype: object\n",
      "\n",
      "📌 Top 5 in 'total_female' for high_cost_spender:\n",
      "total_female\n",
      "1.0    61.96 %\n",
      "2.0    15.93 %\n",
      "0.0    11.87 %\n",
      "3.0     6.06 %\n",
      "4.0     1.56 %\n",
      "Name: proportion, dtype: object\n",
      "\n",
      "📌 Top 5 in 'total_male' for high_cost_spender:\n",
      "total_male\n",
      "1.0    60.84 %\n",
      "0.0    16.86 %\n",
      "2.0     13.8 %\n",
      "3.0     5.06 %\n",
      "4.0     1.69 %\n",
      "Name: proportion, dtype: object\n",
      "\n",
      "📌 Top 5 in 'purpose' for high_cost_spender:\n",
      "purpose\n",
      "Leisure and Holidays              90.82 %\n",
      "Visiting Friends and Relatives     4.06 %\n",
      "Business                           1.56 %\n",
      "Meetings and Conference            1.31 %\n",
      "Volunteering                       1.25 %\n",
      "Name: proportion, dtype: object\n",
      "\n",
      "📌 Top 5 in 'main_activity' for high_cost_spender:\n",
      "main_activity\n",
      "Wildlife tourism      61.84 %\n",
      "Beach tourism         21.67 %\n",
      "Conference tourism     9.62 %\n",
      "Cultural tourism       3.62 %\n",
      "Hunting tourism        1.19 %\n",
      "Name: proportion, dtype: object\n",
      "\n",
      "📌 Top 5 in 'info_source' for high_cost_spender:\n",
      "info_source\n",
      "Travel, agent, tour operator      66.33 %\n",
      "Friends, relatives                16.18 %\n",
      "Newspaper, magazines,brochures     6.12 %\n",
      "others                             5.25 %\n",
      "Radio, TV, Web                     4.18 %\n",
      "Name: proportion, dtype: object\n",
      "\n",
      "📌 Top 5 in 'tour_arrangement' for high_cost_spender:\n",
      "tour_arrangement\n",
      "Package Tour    86.45 %\n",
      "Independent     13.55 %\n",
      "Name: proportion, dtype: object\n",
      "\n",
      "📌 Top 5 in 'package_transport_int' for high_cost_spender:\n",
      "package_transport_int\n",
      "Yes    60.9 %\n",
      "No     39.1 %\n",
      "Name: proportion, dtype: object\n",
      "\n",
      "📌 Top 5 in 'package_accomodation' for high_cost_spender:\n",
      "package_accomodation\n",
      "Yes    85.13 %\n",
      "No     14.87 %\n",
      "Name: proportion, dtype: object\n",
      "\n",
      "📌 Top 5 in 'package_food' for high_cost_spender:\n",
      "package_food\n",
      "Yes    79.33 %\n",
      "No     20.67 %\n",
      "Name: proportion, dtype: object\n",
      "\n",
      "📌 Top 5 in 'package_transport_tz' for high_cost_spender:\n",
      "package_transport_tz\n",
      "Yes    74.83 %\n",
      "No     25.17 %\n",
      "Name: proportion, dtype: object\n",
      "\n",
      "📌 Top 5 in 'package_sightseeing' for high_cost_spender:\n",
      "package_sightseeing\n",
      "Yes    61.02 %\n",
      "No     38.98 %\n",
      "Name: proportion, dtype: object\n",
      "\n",
      "📌 Top 5 in 'package_guided_tour' for high_cost_spender:\n",
      "package_guided_tour\n",
      "Yes    62.34 %\n",
      "No     37.66 %\n",
      "Name: proportion, dtype: object\n",
      "\n",
      "📌 Top 5 in 'package_insurance' for high_cost_spender:\n",
      "package_insurance\n",
      "No     68.08 %\n",
      "Yes    31.92 %\n",
      "Name: proportion, dtype: object\n",
      "\n",
      "📌 Top 5 in 'night_mainland' for high_cost_spender:\n",
      "night_mainland\n",
      "0.0     16.99 %\n",
      "7.0     12.12 %\n",
      "6.0      9.87 %\n",
      "10.0     8.81 %\n",
      "5.0      6.68 %\n",
      "Name: proportion, dtype: object\n",
      "\n",
      "📌 Top 5 in 'night_zanzibar' for high_cost_spender:\n",
      "night_zanzibar\n",
      "0.0    46.16 %\n",
      "7.0    13.37 %\n",
      "4.0     8.87 %\n",
      "5.0     7.62 %\n",
      "3.0     6.43 %\n",
      "Name: proportion, dtype: object\n",
      "\n",
      "📌 Top 5 in 'payment_mode' for high_cost_spender:\n",
      "payment_mode\n",
      "Cash                 82.07 %\n",
      "Credit Card          17.74 %\n",
      "Travellers Cheque     0.12 %\n",
      "Other                 0.06 %\n",
      "Name: proportion, dtype: object\n",
      "\n",
      "📌 Top 5 in 'first_trip_tz' for high_cost_spender:\n",
      "first_trip_tz\n",
      "Yes    85.57 %\n",
      "No     14.43 %\n",
      "Name: proportion, dtype: object\n",
      "\n",
      "📌 Top 5 in 'most_impressing' for high_cost_spender:\n",
      "most_impressing\n",
      "Friendly People                          31.9 %\n",
      " Wildlife                               31.32 %\n",
      "No comments                             12.32 %\n",
      "Wonderful Country, Landscape, Nature    10.72 %\n",
      "Good service                             7.19 %\n",
      "Name: proportion, dtype: object\n",
      "\n",
      "📌 Top 5 in 'total_cost' for high_cost_spender:\n",
      "total_cost\n",
      "8287500.0     2.81 %\n",
      "9945000.0      2.0 %\n",
      "16575000.0    1.37 %\n",
      "7458750.0     1.25 %\n",
      "9077320.0     1.19 %\n",
      "Name: proportion, dtype: object\n",
      "\n",
      "📌 Top 5 in 'group_size' for high_cost_spender:\n",
      "group_size\n",
      "2.0    49.28 %\n",
      "1.0    19.55 %\n",
      "4.0    11.12 %\n",
      "3.0    10.62 %\n",
      "5.0     3.87 %\n",
      "Name: proportion, dtype: object\n",
      "\n",
      "📌 Top 5 in 'total_nights' for high_cost_spender:\n",
      "total_nights\n",
      "7.0     15.87 %\n",
      "14.0    10.62 %\n",
      "10.0     8.49 %\n",
      "6.0      7.12 %\n",
      "12.0     6.81 %\n",
      "Name: proportion, dtype: object\n",
      "\n",
      "📌 Top 5 in 'package_score' for high_cost_spender:\n",
      "package_score\n",
      "6    25.23 %\n",
      "7    21.36 %\n",
      "8    16.55 %\n",
      "5    15.18 %\n",
      "0     12.8 %\n",
      "Name: proportion, dtype: object\n"
     ]
    }
   ],
   "source": [
    "# Analyze the characteristics of the top 30% of users who spend the most money.\n",
    "high_df = df_train[df_train['cost_group'] == 'high_cost_spender']\n",
    "for col in high_df.columns:\n",
    "    if col in ['cost_group']: \n",
    "        continue\n",
    "\n",
    "    print(f\"\\n📌 Top 5 in '{col}' for high_cost_spender:\")\n",
    "    top_values = high_df[col].value_counts(normalize=True).head(5) * 100\n",
    "    print(top_values.round(2).astype(str) + ' %')"
   ]
  },
  {
   "cell_type": "code",
   "execution_count": 244,
   "metadata": {
    "tags": []
   },
   "outputs": [],
   "source": [
    "df_train = df_train.drop(columns=[\"ID\", \"info_source\", \"most_impressing\"])"
   ]
  },
  {
   "cell_type": "markdown",
   "metadata": {
    "tags": []
   },
   "source": [
    "# Splite X,y"
   ]
  },
  {
   "cell_type": "code",
   "execution_count": 245,
   "metadata": {
    "tags": []
   },
   "outputs": [],
   "source": [
    "# df_train.isna().sum()"
   ]
  },
  {
   "cell_type": "code",
   "execution_count": 246,
   "metadata": {
    "tags": []
   },
   "outputs": [],
   "source": [
    "q_high = df_train['total_cost'].quantile(0.99)\n",
    "df_train = df_train[df_train['total_cost'] <= q_high]\n",
    "\n",
    "y_train = np.log1p(df_train['total_cost']) \n",
    "X_train = df_train.drop('total_cost', axis=1)\n",
    "\n",
    "X_test = df_test.drop('total_cost', axis=1, errors='ignore')  \n"
   ]
  },
  {
   "cell_type": "code",
   "execution_count": 247,
   "metadata": {
    "tags": []
   },
   "outputs": [],
   "source": [
    "# X_train.isna().sum()"
   ]
  },
  {
   "cell_type": "markdown",
   "metadata": {},
   "source": [
    "# Tunning (XGBRegressor + GridSearchCV)"
   ]
  },
  {
   "cell_type": "code",
   "execution_count": 248,
   "metadata": {
    "tags": []
   },
   "outputs": [
    {
     "name": "stdout",
     "output_type": "stream",
     "text": [
      "Fitting 3 folds for each of 36 candidates, totalling 108 fits\n",
      "✅ Best Params: {'regressor__colsample_bytree': 0.6, 'regressor__gamma': 0, 'regressor__learning_rate': 0.03, 'regressor__max_depth': 8, 'regressor__min_child_weight': 1, 'regressor__n_estimators': 200, 'regressor__subsample': 0.8}\n",
      "✅ Best MAE (CV): 0.05870013849192382\n",
      "🧾 Best MAE (CV): 0.0587 (≈ 2,994,004 TZS)\n",
      "\n",
      "📊 final outcome (Train focused)\n",
      "MAE  : 2,994,004 TZS\n",
      "RMSE : 5,802,290 TZS\n",
      "MAPE : 90.53%\n",
      "R²   : 0.5963\n"
     ]
    },
    {
     "data": {
      "image/png": "[encoded data removed]",
      "text/plain": [
       "<Figure size 1000x600 with 1 Axes>"
      ]
     },
     "metadata": {},
     "output_type": "display_data"
    }
   ],
   "source": [
    "import pandas as pd\n",
    "import numpy as np\n",
    "import matplotlib.pyplot as plt\n",
    "from sklearn.pipeline import Pipeline\n",
    "from sklearn.preprocessing import RobustScaler, OneHotEncoder\n",
    "from sklearn.compose import ColumnTransformer\n",
    "from sklearn.impute import SimpleImputer\n",
    "from sklearn.model_selection import GridSearchCV\n",
    "from sklearn.metrics import mean_absolute_error, mean_squared_error, mean_absolute_percentage_error, r2_score\n",
    "from sklearn.utils import compute_sample_weight\n",
    "from xgboost import XGBRegressor\n",
    "\n",
    "\n",
    "q_high = df_train['total_cost'].quantile(0.99)\n",
    "df_train = df_train[df_train['total_cost'] <= q_high]\n",
    "\n",
    "\n",
    "y_train = np.log1p(df_train['total_cost'])\n",
    "X_train = df_train.drop(columns=['total_cost'], errors='ignore')\n",
    "X_test = df_test.drop(columns=['total_cost'], errors='ignore')\n",
    "\n",
    "drop_cols = ['total_cost', 'cost_group', 'cost_per_person', 'log_cost_per_person']\n",
    "\n",
    "X_train = df_train.drop(columns=[col for col in drop_cols if col in df_train.columns])\n",
    "X_test = df_test.drop(columns=[col for col in drop_cols if col in df_test.columns])\n",
    "\n",
    "# new feature created  for x_train, x_test \n",
    "def add_features(df):\n",
    "    df = df.copy()\n",
    "    df['group_size'] = df['total_female'] + df['total_male']\n",
    "    df['log_group_size'] = np.log1p(df['group_size'])\n",
    "    df['total_nights'] = df['night_mainland'].fillna(0) + df['night_zanzibar'].fillna(0)\n",
    "    df['log_total_nights'] = np.log1p(df['total_nights'])\n",
    "\n",
    "    package_cols = [col for col in df.columns if col.startswith(\"package_\")]\n",
    "    numeric_package_cols = [col for col in package_cols if pd.api.types.is_numeric_dtype(df[col])]\n",
    "    df['package_score'] = df[numeric_package_cols].sum(axis=1)\n",
    "\n",
    "    df['female_ratio'] = df['total_female'] / (df['group_size'] + 1e-5)\n",
    "    df['mainland_ratio'] = df['night_mainland'] / (df['total_nights'] + 1e-5)\n",
    "    df['short_stay'] = (df['total_nights'] < 3).astype(int)\n",
    "\n",
    "    df['group_cluster'] = pd.cut(df['group_size'], bins=[0, 2, 5, 10], labels=['small', 'mid', 'large'])\n",
    "\n",
    "    return df\n",
    "\n",
    "\n",
    "X_train = add_features(X_train)\n",
    "X_test = add_features(X_test)\n",
    "\n",
    "\n",
    "numeric_features = X_train.select_dtypes(include=['int64', 'float64']).columns.tolist()\n",
    "cat_features = X_train.select_dtypes(include=['object', 'category']).columns.tolist()\n",
    "\n",
    "num_pipeline = Pipeline([\n",
    "    ('imputer', SimpleImputer(strategy='median')),\n",
    "    ('scaler', RobustScaler())\n",
    "])\n",
    "\n",
    "cat_pipeline = Pipeline([\n",
    "    ('imputer_cat', SimpleImputer(strategy='constant', fill_value='missing')),\n",
    "    ('1hot', OneHotEncoder(handle_unknown='ignore'))\n",
    "])\n",
    "\n",
    "preprocessor = ColumnTransformer([\n",
    "    ('num', num_pipeline, numeric_features),\n",
    "    ('cat', cat_pipeline, cat_features)\n",
    "])\n",
    "\n",
    "\n",
    "reg = XGBRegressor(random_state=42, n_jobs=-1)\n",
    "\n",
    "pipeline = Pipeline([\n",
    "    ('preprocessor', preprocessor),\n",
    "    ('regressor', reg)\n",
    "])\n",
    "\n",
    "\n",
    "param_dist = {\n",
    "    'regressor__n_estimators': [200, 400],\n",
    "    'regressor__max_depth': [8, 10, 12],\n",
    "    'regressor__learning_rate': [0.05, 0.03, 0.01],\n",
    "    'regressor__subsample': [0.8],\n",
    "    'regressor__colsample_bytree': [0.6],\n",
    "    'regressor__min_child_weight': [1, 3],\n",
    "    'regressor__gamma': [0]\n",
    "}\n",
    "\n",
    "grid_search = GridSearchCV(\n",
    "    estimator=pipeline,\n",
    "    param_grid=param_dist,\n",
    "    cv=3,\n",
    "    scoring='neg_mean_absolute_percentage_error',\n",
    "    n_jobs=-1,\n",
    "    verbose=1\n",
    ")\n",
    "\n",
    "\n",
    "grid_search.fit(X_train, y_train)\n",
    "best_model = grid_search.best_estimator_\n",
    "\n",
    "\n",
    "y_pred_log = best_model.predict(X_train)\n",
    "y_pred = np.expm1(y_pred_log)\n",
    "\n",
    "mae = mean_absolute_error(df_train['total_cost'], y_pred)\n",
    "rmse = np.sqrt(mean_squared_error(df_train['total_cost'], y_pred))\n",
    "mape = mean_absolute_percentage_error(df_train['total_cost'], y_pred)\n",
    "r2 = r2_score(df_train['total_cost'], y_pred)\n",
    "\n",
    "best_mae_log = -grid_search.best_score_\n",
    "cv_mae_tzs = mean_absolute_error(df_train['total_cost'], y_pred)\n",
    "\n",
    "print(\"✅ Best Params:\", grid_search.best_params_)\n",
    "print(\"✅ Best MAE (CV):\", -grid_search.best_score_)\n",
    "print(f\"🧾 Best MAE (CV): {best_mae_log:.4f} (≈ {cv_mae_tzs:,.0f} TZS)\")\n",
    "\n",
    "print(\"\\n📊 final outcome (Train focused)\")\n",
    "print(f\"MAE  : {mae:,.0f} TZS\")\n",
    "print(f\"RMSE : {rmse:,.0f} TZS\")\n",
    "print(f\"MAPE : {mape:.2%}\")\n",
    "print(f\"R²   : {r2:.4f}\")\n",
    "\n",
    "\n",
    "booster = best_model.named_steps['regressor']\n",
    "importances = booster.feature_importances_\n",
    "feature_names = best_model.named_steps['preprocessor'].get_feature_names_out()\n",
    "\n",
    "feat_imp = pd.Series(importances, index=feature_names).sort_values(ascending=False)\n",
    "feat_imp.head(20).plot(kind='barh', figsize=(10, 6))\n",
    "plt.gca().invert_yaxis()\n",
    "plt.title(\"🎯 XGBoost Feature Importances\")\n",
    "plt.tight_layout()\n",
    "plt.show()\n",
    "\n",
    "\n",
    "test_preds_log = best_model.predict(X_test)\n",
    "test_preds = np.expm1(test_preds_log)\n",
    "\n",
    "submission = pd.DataFrame({\n",
    "    'ID': df_test['ID'],           \n",
    "    'prediction': test_preds\n",
    "})\n",
    "\n",
    "\n",
    "# submission.to_csv('xgb_submission.csv', index=False)\n",
    "# print(\"xgb_submission.csv\")\n",
    "\n"
   ]
  },
  {
   "cell_type": "code",
   "execution_count": null,
   "metadata": {},
   "outputs": [],
   "source": []
  },
  {
   "cell_type": "code",
   "execution_count": null,
   "metadata": {},
   "outputs": [],
   "source": []
  },
  {
   "cell_type": "code",
   "execution_count": null,
   "metadata": {},
   "outputs": [],
   "source": []
  },
  {
   "cell_type": "code",
   "execution_count": null,
   "metadata": {},
   "outputs": [],
   "source": []
  },
  {
   "cell_type": "code",
   "execution_count": null,
   "metadata": {},
   "outputs": [],
   "source": []
  },
  {
   "cell_type": "code",
   "execution_count": null,
   "metadata": {},
   "outputs": [],
   "source": []
  },
  {
   "cell_type": "code",
   "execution_count": null,
   "metadata": {},
   "outputs": [],
   "source": []
  },
  {
   "cell_type": "code",
   "execution_count": null,
   "metadata": {},
   "outputs": [],
   "source": []
  },
  {
   "cell_type": "code",
   "execution_count": null,
   "metadata": {},
   "outputs": [],
   "source": []
  },
  {
   "cell_type": "code",
   "execution_count": null,
   "metadata": {},
   "outputs": [],
   "source": []
  },
  {
   "cell_type": "code",
   "execution_count": null,
   "metadata": {},
   "outputs": [],
   "source": []
  },
  {
   "cell_type": "code",
   "execution_count": null,
   "metadata": {},
   "outputs": [],
   "source": []
  },
  {
   "cell_type": "code",
   "execution_count": null,
   "metadata": {},
   "outputs": [],
   "source": []
  },
  {
   "cell_type": "code",
   "execution_count": null,
   "metadata": {},
   "outputs": [],
   "source": []
  },
  {
   "cell_type": "code",
   "execution_count": null,
   "metadata": {},
   "outputs": [],
   "source": []
  },
  {
   "cell_type": "code",
   "execution_count": null,
   "metadata": {},
   "outputs": [],
   "source": []
  },
  {
   "cell_type": "code",
   "execution_count": null,
   "metadata": {},
   "outputs": [],
   "source": []
  },
  {
   "cell_type": "code",
   "execution_count": null,
   "metadata": {},
   "outputs": [],
   "source": []
  },
  {
   "cell_type": "code",
   "execution_count": null,
   "metadata": {},
   "outputs": [],
   "source": []
  },
  {
   "cell_type": "code",
   "execution_count": null,
   "metadata": {},
   "outputs": [],
   "source": []
  },
  {
   "cell_type": "code",
   "execution_count": null,
   "metadata": {},
   "outputs": [],
   "source": []
  },
  {
   "cell_type": "code",
   "execution_count": null,
   "metadata": {},
   "outputs": [],
   "source": []
  },
  {
   "cell_type": "code",
   "execution_count": null,
   "metadata": {},
   "outputs": [],
   "source": []
  },
  {
   "cell_type": "code",
   "execution_count": null,
   "metadata": {},
   "outputs": [],
   "source": []
  },
  {
   "cell_type": "code",
   "execution_count": null,
   "metadata": {},
   "outputs": [],
   "source": []
  },
  {
   "cell_type": "code",
   "execution_count": null,
   "metadata": {},
   "outputs": [],
   "source": []
  },
  {
   "cell_type": "code",
   "execution_count": 114,
   "metadata": {
    "tags": []
   },
   "outputs": [
    {
     "name": "stdout",
     "output_type": "stream",
     "text": [
      "📊 Residual Summary:\n",
      "count    3.357000e+03\n",
      "mean     5.274392e+05\n",
      "std      1.266669e+06\n",
      "min     -3.119439e+06\n",
      "25%     -2.235522e+05\n",
      "50%      7.042119e+04\n",
      "75%      1.045392e+06\n",
      "max      5.524057e+06\n",
      "Name: total_cost, dtype: float64\n"
     ]
    }
   ],
   "source": [
    "# # 예측값 vs 실제값\n",
    "# y_true = df_train['total_cost']           # 실제값\n",
    "# y_pred = y_pred                           # 예측값 (expm1 이후)\n",
    "\n",
    "# # ✅ Residuals (잔차 = 실제값 - 예측값)\n",
    "# residuals = y_true - y_pred\n",
    "\n",
    "# # 통계 요약\n",
    "# print(\"📊 Residual Summary:\")\n",
    "# print(residuals.describe())\n"
   ]
  },
  {
   "cell_type": "code",
   "execution_count": null,
   "metadata": {},
   "outputs": [],
   "source": []
  }
 ],
 "metadata": {
  "kernelspec": {
   "display_name": "Python (.venv)",
   "language": "python",
   "name": ".venv"
  },
  "language_info": {
   "codemirror_mode": {
    "name": "ipython",
    "version": 3
   },
   "file_extension": ".py",
   "mimetype": "text/x-python",
   "name": "python",
   "nbconvert_exporter": "python",
   "pygments_lexer": "ipython3",
   "version": "3.11.3"
  }
 },
 "nbformat": 4,
 "nbformat_minor": 4
}
